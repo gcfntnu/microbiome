{
 "cells": [
  {
   "cell_type": "markdown",
   "metadata": {},
   "source": [
    "**Pre cleaning of microbiome data** \n",
    "Preparing 16S data for further analysis such as beta diversity and statistical tests. \n",
    "1. add variabel types to meta data\n",
    "2. filter features/samples that will not be part of any analysis"
   ]
  },
  {
   "cell_type": "code",
   "execution_count": null,
   "metadata": {},
   "outputs": [],
   "source": [
    "library(phyloseq)\n",
    "library(stringr)\n",
    "library(ggplot2)\n",
    "suppressMessages(library(microbiome))\n",
    "source(\"/mnt/work/flatberg/projects/GCF-2019-658/analysis/src/microbiome/rules/analysis/notebooks/src/microfiltR/microfiltR_source_code.R\")"
   ]
  },
  {
   "cell_type": "markdown",
   "metadata": {},
   "source": [
    "**Load QIIME2 based taxonomy from phyloseq object (rds file)**"
   ]
  },
  {
   "cell_type": "code",
   "execution_count": null,
   "metadata": {},
   "outputs": [],
   "source": [
    "rds <- readRDS(snakemake@input[[1]])\n",
    "rds"
   ]
  },
  {
   "cell_type": "code",
   "execution_count": null,
   "metadata": {},
   "outputs": [],
   "source": [
    "#rds.f <- subset_samples(rds, Sample_Biosource == \"saft\")\n",
    "df <- sample_data(rds)\n",
    "ctrl <- rep(FALSE, 70)\n",
    "ctrl[62:70] <- TRUE\n",
    "df[ctrl,\"Sample_Biosource\"] <- \"control\"\n",
    "sample_data(rds) <- df\n",
    "rds.f <- subset_samples(rds, Sample_Biosource == \"saft\")\n",
    "rds.f"
   ]
  },
  {
   "cell_type": "markdown",
   "metadata": {},
   "source": [
    "**Taxonomy requirements**"
   ]
  },
  {
   "cell_type": "code",
   "execution_count": null,
   "metadata": {},
   "outputs": [],
   "source": [
    "rds.f <- subset_taxa(rds,\n",
    "    Kingdom == \"Bacteria\" &\n",
    "    Family  != \"mitochondria\" &\n",
    "    Class   != \"Chloroplast\" &\n",
    "    Phylum != \"Cyanobacteria/Chloroplast\"\n",
    "  )\n",
    "rds.f = prune_taxa(taxa_sums(rds.f) > 0, rds.f)\n",
    "rds.f\n"
   ]
  },
  {
   "cell_type": "markdown",
   "metadata": {},
   "source": [
    "**Independent feature filtes**  \n",
    "Functions for paramter tuning independent filtering is from Bryan Brown's microfiltR https://github.com/itsmisterbrown/microfiltR"
   ]
  },
  {
   "cell_type": "code",
   "execution_count": null,
   "metadata": {},
   "outputs": [],
   "source": [
    "as.threshold <- estimate.ASthreshold(ps=rds.f, WST=NULL, minLIB=500, Prange = c(0.025:0.15, 0.025), CVrange = c(1:10, 0.5), RArange = c(5e-6:0.9e-3, 1e-5))"
   ]
  },
  {
   "cell_type": "code",
   "execution_count": null,
   "metadata": {},
   "outputs": [],
   "source": [
    "plot.threshold(as.threshold)"
   ]
  },
  {
   "cell_type": "code",
   "execution_count": null,
   "metadata": {},
   "outputs": [],
   "source": [
    "e3.f <- microfilter(ps=rds.f, WST=NULL, PFT=0.05, RAT=2.5e-5, minLIB=500, return.all = TRUE)\n",
    "e3.f$filtered.phyloseq"
   ]
  },
  {
   "cell_type": "code",
   "execution_count": null,
   "metadata": {},
   "outputs": [],
   "source": [
    "rds.f <- e3.f$filtered.phyloseq"
   ]
  },
  {
   "cell_type": "markdown",
   "metadata": {},
   "source": [
    "**Save filtered SILVA**"
   ]
  },
  {
   "cell_type": "code",
   "execution_count": null,
   "metadata": {},
   "outputs": [],
   "source": [
    "saveRDS(rds.f, snakemake@output[[1]])"
   ]
  },
  {
   "cell_type": "markdown",
   "metadata": {},
   "source": [
    "--------"
   ]
  },
  {
   "cell_type": "markdown",
   "metadata": {},
   "source": [
    "--------------\n"
   ]
  }
 ],
 "metadata": {
  "kernelspec": {
   "display_name": "R",
   "language": "R",
   "name": "ir"
  },
  "language_info": {
   "codemirror_mode": "r",
   "file_extension": ".r",
   "mimetype": "text/x-r-source",
   "name": "R",
   "pygments_lexer": "r",
   "version": "3.6.2"
  }
 },
 "nbformat": 4,
 "nbformat_minor": 4
}
